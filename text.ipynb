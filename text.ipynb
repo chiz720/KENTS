{
 "cells": [
  {
   "cell_type": "markdown",
   "metadata": {},
   "source": [
    "# Medical Text Classification"
   ]
  },
  {
   "cell_type": "markdown",
   "metadata": {},
   "source": [
    "- Medical abstracts describing conditions of patients\n",
    "\n",
    "- labels:\n",
    "\n",
    "    - 1: \n",
    "    - 2:\n",
    "    - 3:\n",
    "    - 4: Cardiology\n",
    "    - 5: Nephrology\n",
    "\n"
   ]
  },
  {
   "cell_type": "code",
   "execution_count": 23,
   "metadata": {},
   "outputs": [],
   "source": [
    "import pandas as pd"
   ]
  },
  {
   "cell_type": "code",
   "execution_count": 24,
   "metadata": {},
   "outputs": [
    {
     "data": {
      "text/html": [
       "<div>\n",
       "<style scoped>\n",
       "    .dataframe tbody tr th:only-of-type {\n",
       "        vertical-align: middle;\n",
       "    }\n",
       "\n",
       "    .dataframe tbody tr th {\n",
       "        vertical-align: top;\n",
       "    }\n",
       "\n",
       "    .dataframe thead th {\n",
       "        text-align: right;\n",
       "    }\n",
       "</style>\n",
       "<table border=\"1\" class=\"dataframe\">\n",
       "  <thead>\n",
       "    <tr style=\"text-align: right;\">\n",
       "      <th></th>\n",
       "      <th>Label</th>\n",
       "      <th>Text</th>\n",
       "    </tr>\n",
       "  </thead>\n",
       "  <tbody>\n",
       "    <tr>\n",
       "      <th>0</th>\n",
       "      <td>4</td>\n",
       "      <td>Catheterization laboratory events and hospital...</td>\n",
       "    </tr>\n",
       "    <tr>\n",
       "      <th>1</th>\n",
       "      <td>5</td>\n",
       "      <td>Renal abscess in children. Three cases of rena...</td>\n",
       "    </tr>\n",
       "    <tr>\n",
       "      <th>2</th>\n",
       "      <td>2</td>\n",
       "      <td>Hyperplastic polyps seen at sigmoidoscopy are ...</td>\n",
       "    </tr>\n",
       "    <tr>\n",
       "      <th>3</th>\n",
       "      <td>5</td>\n",
       "      <td>Subclavian artery to innominate vein fistula a...</td>\n",
       "    </tr>\n",
       "    <tr>\n",
       "      <th>4</th>\n",
       "      <td>4</td>\n",
       "      <td>Effect of local inhibition of gamma-aminobutyr...</td>\n",
       "    </tr>\n",
       "    <tr>\n",
       "      <th>5</th>\n",
       "      <td>1</td>\n",
       "      <td>Infection during chronic epidural catheterizat...</td>\n",
       "    </tr>\n",
       "    <tr>\n",
       "      <th>6</th>\n",
       "      <td>5</td>\n",
       "      <td>Mediastinal tracheostomy using a pectoralis ma...</td>\n",
       "    </tr>\n",
       "    <tr>\n",
       "      <th>7</th>\n",
       "      <td>5</td>\n",
       "      <td>Tumefactive fibroinflammatory lesion of the ex...</td>\n",
       "    </tr>\n",
       "    <tr>\n",
       "      <th>8</th>\n",
       "      <td>3</td>\n",
       "      <td>Multiple representations contribute to body kn...</td>\n",
       "    </tr>\n",
       "    <tr>\n",
       "      <th>9</th>\n",
       "      <td>5</td>\n",
       "      <td>Increasing asthma prevalence in a rural New Ze...</td>\n",
       "    </tr>\n",
       "  </tbody>\n",
       "</table>\n",
       "</div>"
      ],
      "text/plain": [
       "   Label                                               Text\n",
       "0      4  Catheterization laboratory events and hospital...\n",
       "1      5  Renal abscess in children. Three cases of rena...\n",
       "2      2  Hyperplastic polyps seen at sigmoidoscopy are ...\n",
       "3      5  Subclavian artery to innominate vein fistula a...\n",
       "4      4  Effect of local inhibition of gamma-aminobutyr...\n",
       "5      1  Infection during chronic epidural catheterizat...\n",
       "6      5  Mediastinal tracheostomy using a pectoralis ma...\n",
       "7      5  Tumefactive fibroinflammatory lesion of the ex...\n",
       "8      3  Multiple representations contribute to body kn...\n",
       "9      5  Increasing asthma prevalence in a rural New Ze..."
      ]
     },
     "execution_count": 24,
     "metadata": {},
     "output_type": "execute_result"
    }
   ],
   "source": [
    "train_df = pd.read_csv(\"medical_text/train.dat\",delimiter='\\t',  names=['Label', 'Text'])\n",
    "train_df.head(10)\n"
   ]
  },
  {
   "cell_type": "code",
   "execution_count": 29,
   "metadata": {},
   "outputs": [
    {
     "name": "stdout",
     "output_type": "stream",
     "text": [
      "Mediastinal tracheostomy using a pectoralis major myocutaneous flap after resection of carcinoma of the esophagus involving the proximal part of the trachea.\n",
      "An operative procedure of mediastinal tracheostomy using a pectoralis major myocutaneous flap is presented.\n",
      "In this procedure, the terminal portion of the trachea penetrates through the center of a pectoralis major myocutaneous flap and the tracheal wall is completely wrapped with the muscular portion of the flap.\n",
      "Between 1981 and 1988, eight patients with carcinoma in the cervicothoracic segment of the esophagus underwent mediastinal tracheostomy after laryngoesophagectomy and extended resection of the proximal part of the trachea through sternal manubrectomy, because of invasion into the trachea.\n",
      "In five of eight patients, a pectoralis major myocutaneous flap was used to construct a tracheal stoma.\n",
      "A skin flap only, or both a skin flap and a muscle flap, was used in the other three.\n",
      "In four of eight patients, tracheal necrosis occurred, and rupture of the brachiocephalic artery occurred in one patient when the tracheal stoma had been constructed using both a skin flap and a muscle flap.\n",
      "However, neither skin breakdown nor bleeding from the major vessels occurred when using the myocutaneous flap.\n",
      "Therefore, it is concluded that the construction of the tracheal stoma using a pectoralis major myocutaneous flap is recommended for mediastinal tracheostomy after laryngoesophagectomy with extended resection of the proximal part of the trachea.\n",
      "\n"
     ]
    }
   ],
   "source": [
    "# Replace periods with periods followed by a newline\n",
    "paragraph_text = train_df['Text'][6].replace('. ', '.\\n')\n",
    "\n",
    "print(paragraph_text)\n"
   ]
  },
  {
   "cell_type": "code",
   "execution_count": 35,
   "metadata": {},
   "outputs": [
    {
     "name": "stdout",
     "output_type": "stream",
     "text": [
      "Label: 1\n",
      "5     Infection during chronic epidural catheterizat...\n",
      "16    Cutaneous manifestations of multiple myeloma. ...\n",
      "18    Ewing's sarcoma. Radiotherapy versus surgery f...\n",
      "20    Immunohistochemical detection of P-glycoprotei...\n",
      "22    Follicular thyroid cancer treated at the Mayo ...\n",
      "Name: Text, dtype: object\n",
      "Label: 2\n",
      "2     Hyperplastic polyps seen at sigmoidoscopy are ...\n",
      "12    A biphasic pattern of anti-pre-S responses in ...\n",
      "44    Quantitation of intrinsic drug-metabolizing ca...\n",
      "75    Carcinoma of the gallbladder. Gallbladder canc...\n",
      "80    A chronic granulomatous syndrome of unknown or...\n",
      "Name: Text, dtype: object\n",
      "Label: 3\n",
      "8     Multiple representations contribute to body kn...\n",
      "19    Tethered cord syndrome from a choristoma of mu...\n",
      "21    Acute phase reactants and risk of bacterial me...\n",
      "24    Mortality in acute stroke with atrial fibrilla...\n",
      "28    Lexical organization of nouns and verbs in the...\n",
      "Name: Text, dtype: object\n",
      "Label: 4\n",
      "0     Catheterization laboratory events and hospital...\n",
      "4     Effect of local inhibition of gamma-aminobutyr...\n",
      "34    Radiographic manifestations of anomalies of th...\n",
      "37    The Mansfield Scientific Aortic Valvuloplasty ...\n",
      "43    Cardiac rhythm disturbances early after orthot...\n",
      "Name: Text, dtype: object\n",
      "Label: 5\n",
      "1    Renal abscess in children. Three cases of rena...\n",
      "3    Subclavian artery to innominate vein fistula a...\n",
      "6    Mediastinal tracheostomy using a pectoralis ma...\n",
      "7    Tumefactive fibroinflammatory lesion of the ex...\n",
      "9    Increasing asthma prevalence in a rural New Ze...\n",
      "Name: Text, dtype: object\n"
     ]
    }
   ],
   "source": [
    "groups = train_df.groupby('Label')['Text']\n",
    "for label, group in groups:\n",
    "    print(f\"Label: {label}\")\n",
    "    print(group.head())  # Display the first few rows of the group\n"
   ]
  }
 ],
 "metadata": {
  "kernelspec": {
   "display_name": ".venv",
   "language": "python",
   "name": "python3"
  },
  "language_info": {
   "codemirror_mode": {
    "name": "ipython",
    "version": 3
   },
   "file_extension": ".py",
   "mimetype": "text/x-python",
   "name": "python",
   "nbconvert_exporter": "python",
   "pygments_lexer": "ipython3",
   "version": "3.12.5"
  }
 },
 "nbformat": 4,
 "nbformat_minor": 2
}
